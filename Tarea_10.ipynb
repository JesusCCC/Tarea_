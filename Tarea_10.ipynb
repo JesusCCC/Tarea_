{
  "nbformat": 4,
  "nbformat_minor": 0,
  "metadata": {
    "colab": {
      "name": "Tarea_10",
      "provenance": []
    },
    "kernelspec": {
      "name": "python3",
      "display_name": "Python 3"
    },
    "language_info": {
      "name": "python"
    }
  },
  "cells": [
    {
      "cell_type": "code",
      "metadata": {
        "id": "XVjg4S3SLY5M"
      },
      "source": [
        "class Queue:\n",
        "    def __init__( self ):\n",
        "        self.data =[]\n",
        "\n",
        "    def is_empty( self):\n",
        "        return len(self.data)==0  \n",
        "    \n",
        "    def enqueue( self, value ):\n",
        "        self.data.append(value)\n",
        "    \n",
        "    def dequeue( self):\n",
        "        return self.data.pop()\n",
        "    \n",
        "    def length( self):\n",
        "        return len(self.data)\n",
        "    \n",
        "    def to_string( self):\n",
        "        for elem in self.data:\n",
        "            print(f'|{ elem }| <-- ', end=\"\")"
      ],
      "execution_count": 4,
      "outputs": []
    },
    {
      "cell_type": "code",
      "metadata": {
        "id": "HFapg7fALt_I"
      },
      "source": [
        "class PriorityQueue:\n",
        "    def __init__(self):\n",
        "        self.data=[]\n",
        "    \n",
        "    def is_empty(self):\n",
        "        return len(self.data)==0 \n",
        "    \n",
        "    def length(self):\n",
        "        return len(self.data)\n",
        "\n",
        "    def enqueue(self, priority, elem):\n",
        "        if len(self.data)==0:\n",
        "            self.data.append(elem)\n",
        "            self.index.append(prioridad)\n",
        "        elif prioridad>=self.index[-1]:\n",
        "            self.data.append(elem)\n",
        "            self.index.append(prioridad)\n",
        "        else:\n",
        "            cont=0\n",
        "            for elemento in self.index:\n",
        "                if prioridad>=elemento:\n",
        "                    cont+=1\n",
        "            self.data.insert(cont, elem)\n",
        "            self.index.insert(cont, prioridad)\n",
        "\n",
        "    def dequeue(self):\n",
        "        eliminar=self.index.pop(0)\n",
        "        return self.data.pop(0)\n",
        "    \n",
        "    def to_string(self):\n",
        "        cont= 0\n",
        "        for elem in self.data:\n",
        "            print(f'|{self.index[cont], elem}|<--', end=\"\")\n",
        "            cont+=1"
      ],
      "execution_count": 5,
      "outputs": []
    },
    {
      "cell_type": "code",
      "metadata": {
        "id": "5OsOC7d3MQ5A"
      },
      "source": [
        "class BoundedPriorityQueue:\n",
        "    def __init__(self, niveles):\n",
        "        self.__data = [ Queue() for x in range(niveles)]\n",
        "        self.__size = 0\n",
        "\n",
        "    def is_empty(self):\n",
        "        return self.__size == 0\n",
        "\n",
        "    def lenght (self):\n",
        "        return self.__size\n",
        "\n",
        "    def enqueue(self, prioridad, elem):\n",
        "        if prioridad < len(self.__data) and prioridad >= 0:\n",
        "            self.__data[prioridad].enqueue(elem)\n",
        "            self.__size += 1\n",
        "\n",
        "    def dequeue(self):\n",
        "        if not self.is_empty():\n",
        "          for nivel in self.__data:\n",
        "            if not nivel.is_empty():\n",
        "                self.__size -=1\n",
        "                return nivel.dequeue()\n",
        "\n",
        "    def to_string(self):\n",
        "        print(\"cola:\")\n",
        "        for nivel in range(len(self.__data)):\n",
        "            print(f\"Nivel {nivel} --> {self.__data[nivel].to_string()}\")"
      ],
      "execution_count": 6,
      "outputs": []
    },
    {
      "cell_type": "code",
      "metadata": {
        "colab": {
          "base_uri": "https://localhost:8080/"
        },
        "id": "iCRKcwaIKwo1",
        "outputId": "0314b820-af2e-4bef-c9e9-7b0b1fe4d68c"
      },
      "source": [
        "cola = BoundedPriorityQueue(7)\n",
        "print(\"¿Esta vacío?: \", cola.is_empty())\n",
        "print(\"Número de elementos: \", cola.lenght())\n",
        "#Como si se tratase para elecciones o votar\n",
        "cola.enqueue(1,\"Personas con dificultad para moverse.\")\n",
        "cola.enqueue(2,\"Personas de la 3ra Edad.\")\n",
        "cola.enqueue(3,\"Mujeres embarazadas.\")\n",
        "cola.enqueue(4,\"Personas con problemas de salud.\")\n",
        "cola.enqueue(5,\"Adultos Normales\")\n",
        "cola.enqueue(6,\"Jovenes Adultos\")\n",
        "\n",
        "\n",
        "print(\"Número de elementos: \",cola.lenght())\n",
        "print(\"Esta vacío?: \",cola.is_empty())\n",
        "cola.to_string()\n",
        "print(cola.dequeue())\n",
        "cola.to_string()\n",
        "print(\"Número de elementos=: \",cola.lenght())"
      ],
      "execution_count": 7,
      "outputs": [
        {
          "output_type": "stream",
          "name": "stdout",
          "text": [
            "¿Esta vacío?:  True\n",
            "Número de elementos:  0\n",
            "Número de elementos:  6\n",
            "Esta vacío?:  False\n",
            "cola:\n",
            "Nivel 0 --> None\n",
            "|Personas con dificultad para moverse.| <-- Nivel 1 --> None\n",
            "|Personas de la 3ra Edad.| <-- Nivel 2 --> None\n",
            "|Mujeres embarazadas.| <-- Nivel 3 --> None\n",
            "|Personas con problemas de salud.| <-- Nivel 4 --> None\n",
            "|Adultos Normales| <-- Nivel 5 --> None\n",
            "|Jovenes Adultos| <-- Nivel 6 --> None\n",
            "Personas con dificultad para moverse.\n",
            "cola:\n",
            "Nivel 0 --> None\n",
            "Nivel 1 --> None\n",
            "|Personas de la 3ra Edad.| <-- Nivel 2 --> None\n",
            "|Mujeres embarazadas.| <-- Nivel 3 --> None\n",
            "|Personas con problemas de salud.| <-- Nivel 4 --> None\n",
            "|Adultos Normales| <-- Nivel 5 --> None\n",
            "|Jovenes Adultos| <-- Nivel 6 --> None\n",
            "Número de elementos=:  5\n"
          ]
        }
      ]
    }
  ]
}